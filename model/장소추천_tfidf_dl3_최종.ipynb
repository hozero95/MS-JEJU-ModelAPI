{
 "cells": [
  {
   "cell_type": "code",
   "execution_count": 1,
   "metadata": {},
   "outputs": [],
   "source": [
    "import pandas as pd\n",
    "import numpy as np\n",
    "from sklearn.preprocessing import MinMaxScaler, LabelEncoder, OneHotEncoder\n",
    "from sklearn.model_selection import train_test_split\n",
    "from tensorflow.keras.models import Model\n",
    "from tensorflow.keras.layers import Input, Dense, Dropout, Concatenate\n",
    "from tensorflow.keras.callbacks import EarlyStopping\n",
    "from tensorflow.keras.models import load_model\n",
    "from tensorflow.keras.metrics import SparseTopKCategoricalAccuracy\n",
    "from sklearn.feature_extraction.text import TfidfVectorizer\n",
    "\n",
    "import re\n",
    "import os\n",
    "import pickle\n",
    "import random\n",
    "\n",
    "path = './'\n",
    "weight_path = path+'weight/'"
   ]
  },
  {
   "cell_type": "markdown",
   "metadata": {},
   "source": [
    "#### 모델 불러오기"
   ]
  },
  {
   "cell_type": "code",
   "execution_count": 2,
   "metadata": {},
   "outputs": [],
   "source": [
    "# 모델 불러오기\n",
    "model_dl = load_model(os.path.join(weight_path, 'model_dl.keras'))\n",
    "\n",
    "# 전처리 도구 불러오기\n",
    "with open(os.path.join(weight_path, 'vectorizer.pkl'), 'rb') as f:\n",
    "    vectorizer = pickle.load(f)\n",
    "\n",
    "with open(os.path.join(weight_path, 'gender_encoder.pkl'), 'rb') as f:\n",
    "    gender_encoder = pickle.load(f)\n",
    "\n",
    "with open(os.path.join(weight_path, 'relation_encoder.pkl'), 'rb') as f:\n",
    "    relation_encoder = pickle.load(f)\n",
    "\n",
    "with open(os.path.join(weight_path, 'age_scaler.pkl'), 'rb') as f:\n",
    "    age_scaler = pickle.load(f)\n",
    "\n",
    "with open(os.path.join(weight_path, 'encoder.pkl'), 'rb') as f:\n",
    "    encoder = pickle.load(f)\n",
    "\n",
    "with open(os.path.join(weight_path, 'direction_dict.pkl'), 'rb') as f:\n",
    "    direction_dict = pickle.load(f)\n",
    "\n",
    "with open(os.path.join(weight_path, 'gps_dict.pkl'), 'rb') as f:\n",
    "    gps_dict = pickle.load(f)\n"
   ]
  },
  {
   "cell_type": "code",
   "execution_count": 7,
   "metadata": {},
   "outputs": [],
   "source": [
    "def recommend_tourist_spots(keyword, gender, companion_relationship, age, direction, top_k=10, randomize=True):\n",
    "    # 키워드 전처리 및 TF-IDF 벡터화\n",
    "    def preprocess_text(text):\n",
    "    # 특수문자 제거\n",
    "        text = text.strip()\n",
    "        text = re.sub(r'[^ㄱ-ㅎ가-힣a-zA-Z0-9\\s]', '', text)\n",
    "        return text\n",
    "\n",
    "    keyword = preprocess_text(keyword)  # 텍스트 전처리 함수 (예: 특수 문자 제거)\n",
    "    keyword_vector = vectorizer.transform([keyword]).toarray()  # TF-IDF 벡터화\n",
    "\n",
    "    # 성별 인코딩\n",
    "    gender_encoded = gender_encoder.transform([gender]).reshape(-1, 1)\n",
    "\n",
    "    # 동반인 관계 One-Hot Encoding\n",
    "    companion_relationship_df = pd.DataFrame([[companion_relationship]], columns=['동반인 관계'])\n",
    "    companion_relationship_encoded = relation_encoder.transform(companion_relationship_df)\n",
    "\n",
    "    # 나이 MinMax Scaling\n",
    "    age_df = pd.DataFrame([[age]], columns=['나이'])\n",
    "    age_scaled = age_scaler.transform(age_df)\n",
    "\n",
    "    # 모델 입력 데이터를 결합\n",
    "    input_data = [keyword_vector, gender_encoded, companion_relationship_encoded, age_scaled]\n",
    "\n",
    "    # 예측 수행\n",
    "    predictions = model_dl.predict(input_data, verbose=0)[0]\n",
    "\n",
    "\n",
    "    # top_k 상위 항목 인덱스와 확률 순서 정렬\n",
    "    sorted_indices = predictions.argsort()[::-1]  # 높은 확률 순서대로 정렬\n",
    "    sorted_indices = [\n",
    "        idx for idx in sorted_indices if direction_dict.get(encoder.inverse_transform([idx])[0]) == direction\n",
    "    ]\n",
    "    top_indices = sorted_indices[:top_k]  # 확률 상위 top_k 인덱스\n",
    "    \n",
    "   \n",
    "    if randomize:\n",
    "        # 20% 상위 0.5배 범위 중 랜덤 추출\n",
    "        top_20_percent = list(map(int, random.sample(list(sorted_indices[:int(0.5 * top_k)]), int(0.2 * top_k))))\n",
    "\n",
    "        # 40% 상위 0.5배~3배 범위 중 랜덤 추출\n",
    "        top_40_percent_1 = list(map(int, random.sample(list(sorted_indices[int(0.5 * top_k):top_k * 3]), int(0.4 * top_k))))\n",
    "\n",
    "        # 40% 상위 3배~10배 범위 중 랜덤 추출\n",
    "        top_40_percent_2 = list(map(int, random.sample(list(sorted_indices[top_k * 3:top_k * 10]), int(0.2 * top_k))))\n",
    "\n",
    "        # 나머지 20% 상위 10배 이후의 남은 범위 중 랜덤 추출\n",
    "        remaining_indices = sorted_indices[top_k * 10:]\n",
    "        extra_indices = list(map(int, random.sample(list(remaining_indices), min(int(0.2 * top_k), len(remaining_indices)))))\n",
    "\n",
    "        # 추천 인덱스 합치기\n",
    "        recommended_indices = top_20_percent + top_40_percent_1 + top_40_percent_2 + extra_indices\n",
    "        recommended_indices = recommended_indices[:top_k]  # 최종 추천 인덱스를 top_k로 제한\n",
    "    else:\n",
    "        recommended_indices = top_indices\n",
    "\n",
    "\n",
    "    # 인덱스를 관광지 이름으로 변환하고, GPS 좌표를 함께 포함\n",
    "    recommendations = []\n",
    "    for idx in recommended_indices:\n",
    "        place_name = encoder.inverse_transform([idx])[0]\n",
    "        gps_coordinates = gps_dict.get(place_name, {\"주소\" : None, \"GPS 위도\": None, \"GPS 경도\": None})\n",
    "        address = gps_coordinates.get(\"주소\")\n",
    "        latitude = gps_coordinates.get(\"GPS 위도\")\n",
    "        longitude = gps_coordinates.get(\"GPS 경도\")\n",
    "        recommendations.append({\n",
    "            \"name\": place_name,\n",
    "            \"address\" : address,\n",
    "            \"latitude\": latitude,\n",
    "            \"longitude\": longitude\n",
    "        })\n",
    "\n",
    "    return recommendations"
   ]
  },
  {
   "cell_type": "code",
   "execution_count": 8,
   "metadata": {},
   "outputs": [
    {
     "name": "stdout",
     "output_type": "stream",
     "text": [
      "[{'name': '환상숲 곶자왈 공원', 'address': '제주특별자치도 제주시 한경면 녹차분재로 594-1', 'latitude': 33.3229067, 'longitude': 126.2630279}, {'name': '산지 등대', 'address': '제주특별자치도 제주시 사라봉동길 108-1', 'latitude': 33.5214246, 'longitude': 126.5456105}, {'name': '메종글래드 제주 더 파티오 풀', 'address': '제주특별자치도 제주시 노연로 80', 'latitude': 33.4852394, 'longitude': 126.4885322}, {'name': '사라봉공원', 'address': '제주특별자치도 제주시 사라봉동길 74', 'latitude': 33.5172842, 'longitude': 126.545546}, {'name': '내도바당 길', 'address': '제주특별자치도 제주시 일주서로 7469', 'latitude': 33.4964102, 'longitude': 126.4413505}, {'name': '도두항', 'address': '제주특별자치도 제주시 도두항길 22-2', 'latitude': 33.507398, 'longitude': 126.46655}, {'name': '제주칠성로', 'address': nan, 'latitude': 33.51324522, 'longitude': 126.5253755}, {'name': '노형수퍼마켙', 'address': '제주특별자치도 제주시 노형로 89', 'latitude': 33.4648249, 'longitude': 126.4553556}, {'name': '제주환상자전거길 1구간', 'address': nan, 'latitude': 33.49268656, 'longitude': 126.4275105}, {'name': '마이테르수영장', 'address': '제주특별자치도 제주시 애월읍 애원로 474-29', 'latitude': 33.4285875, 'longitude': 126.3478163}]\n"
     ]
    }
   ],
   "source": [
    "# 예시\n",
    "keyword=\"자연, 소셜미디어, 스포츠\"\n",
    "gender=\"남\"\n",
    "companion_relationship=\"친구\"\n",
    "age=36\n",
    "direction = 'northwest' \n",
    "recommended_spots = recommend_tourist_spots(keyword, gender, companion_relationship, age, direction)\n",
    "print(recommended_spots)"
   ]
  },
  {
   "cell_type": "code",
   "execution_count": 9,
   "metadata": {},
   "outputs": [
    {
     "name": "stdout",
     "output_type": "stream",
     "text": [
      "[{'name': '협재해수욕장', 'address': '제주특별자치도 제주시 한림읍 한림로 329-10', 'latitude': 33.39385854, 'longitude': 126.2391575}, {'name': '용두암', 'address': '제주특별자치도 제주시 용두암길 15', 'latitude': 33.5161106, 'longitude': 126.5119571}, {'name': '메종글래드 제주 더 파티오 풀', 'address': '제주특별자치도 제주시 노연로 80', 'latitude': 33.4852394, 'longitude': 126.4885322}, {'name': '내도바당 길', 'address': '제주특별자치도 제주시 일주서로 7469', 'latitude': 33.4964102, 'longitude': 126.4413505}, {'name': '사라봉공원', 'address': '제주특별자치도 제주시 사라봉동길 74', 'latitude': 33.5172842, 'longitude': 126.545546}, {'name': '항파두리 항몽 유적지', 'address': '제주특별자치도 제주시 애월읍 항파두리로 50', 'latitude': 33.4527479, 'longitude': 126.4079226}, {'name': '진성배낚시', 'address': '제주특별자치도 제주시 한경면 노을해안로 1164-4', 'latitude': 33.3088234, 'longitude': 126.1649297}, {'name': '아르떼 뮤지엄 제주', 'address': '제주특별자치도 제주시 애월읍 어림비로 478', 'latitude': 33.3967005, 'longitude': 126.3450106}, {'name': '어승생승마장', 'address': '제주특별자치도 제주시 1100로 2659', 'latitude': 33.4256641, 'longitude': 126.490813}, {'name': '예나르 제주공예박물관', 'address': '제주특별자치도 제주시 한경면 저지14길 36', 'latitude': 33.34003125, 'longitude': 126.2669139}]\n",
      "[{'name': '용두암', 'address': '제주특별자치도 제주시 용두암길 15', 'latitude': 33.5161106, 'longitude': 126.5119571}, {'name': '산지 등대', 'address': '제주특별자치도 제주시 사라봉동길 108-1', 'latitude': 33.5214246, 'longitude': 126.5456105}, {'name': '내도바당 길', 'address': '제주특별자치도 제주시 일주서로 7469', 'latitude': 33.4964102, 'longitude': 126.4413505}, {'name': '청수 곶자왈', 'address': '제주특별자치도 제주시 한경면 연명로 346', 'latitude': 33.3022728, 'longitude': 126.2594135}, {'name': '동배니 구석 포구', 'address': '제주 제주시 우도면 연평리', 'latitude': nan, 'longitude': nan}, {'name': '놀이터 서핑', 'address': '제주특별자치도 제주시 애월읍 곽지9길 39', 'latitude': 33.4499329, 'longitude': 126.306004}, {'name': '선물고팡 협재점', 'address': '제주특별자치도 제주시 한림읍 한림로 545', 'latitude': 33.4063481, 'longitude': 126.2563397}, {'name': '수목원 테마파크', 'address': '제주특별자치도 제주시 은수길 69', 'latitude': 33.4706071, 'longitude': 126.4882266}, {'name': '한라산국립공원 산악박물관', 'address': '제주특별자치도 제주시 산록북로 588', 'latitude': 33.42191537, 'longitude': 126.5490927}, {'name': '화조원', 'address': '제주특별자치도 제주시 애월읍 애원로 804', 'latitude': 33.41112841, 'longitude': 126.3719794}]\n",
      "[{'name': '협재해수욕장', 'address': '제주특별자치도 제주시 한림읍 한림로 329-10', 'latitude': 33.39385854, 'longitude': 126.2391575}, {'name': '용두암', 'address': '제주특별자치도 제주시 용두암길 15', 'latitude': 33.5161106, 'longitude': 126.5119571}, {'name': '제주동문공설시장', 'address': '제주특별자치도 제주시 동문로4길 9', 'latitude': 33.5120624, 'longitude': 126.5282147}, {'name': '제주카약올레', 'address': '제주특별자치도 제주시 애월읍 애월로1길 22', 'latitude': 33.4623312, 'longitude': 126.3104746}, {'name': '제주맥주 양조장', 'address': '제주특별자치도 제주시 한림읍 금능농공길 62-11', 'latitude': 33.3585038, 'longitude': 126.2412102}, {'name': '성이시돌목장', 'address': '제주특별자치도 제주시 한림읍 금악동길 35', 'latitude': 33.3477699, 'longitude': 126.3273211}, {'name': '노형수퍼마켙', 'address': '제주특별자치도 제주시 노형로 89', 'latitude': 33.4648249, 'longitude': 126.4553556}, {'name': '제주환상전기자전거', 'address': '제주특별자치도 제주시 한경면 한경해안로 97', 'latitude': 33.3202897, 'longitude': 126.1689366}, {'name': '노형수산시장', 'address': '제주특별자치도 제주시 한라대학로 7', 'latitude': 33.48038006, 'longitude': 126.473086}, {'name': '동귀 떡 방앗간', 'address': '제주특별자치도 제주시 애월읍 하귀로 113', 'latitude': 33.4836167, 'longitude': 126.407958}]\n",
      "[{'name': '협재해수욕장', 'address': '제주특별자치도 제주시 한림읍 한림로 329-10', 'latitude': 33.39385854, 'longitude': 126.2391575}, {'name': '용두암', 'address': '제주특별자치도 제주시 용두암길 15', 'latitude': 33.5161106, 'longitude': 126.5119571}, {'name': '항파두리 항몽 유적지', 'address': '제주특별자치도 제주시 애월읍 항파두리로 50', 'latitude': 33.4527479, 'longitude': 126.4079226}, {'name': '제주목 관아', 'address': '제주특별자치도 제주시 관덕로 25', 'latitude': 33.514202, 'longitude': 126.522004}, {'name': '법환포구 근처', 'address': '대한민국 제주특별자치도 서귀포시 법환동 163-9  63573', 'latitude': nan, 'longitude': nan}, {'name': '동배니 구석 포구', 'address': '제주 제주시 우도면 연평리', 'latitude': nan, 'longitude': nan}, {'name': '주정공장 수용소 4.3역사관', 'address': '제주특별자치도 제주시 임항로 98', 'latitude': 33.5181009, 'longitude': 126.5348081}, {'name': '창고 포켓볼', 'address': '제주특별자치도 제주시 광양11길 6', 'latitude': 33.4989959, 'longitude': 126.5309114}, {'name': '방림원', 'address': '제주특별자치도 제주시 한경면 용금로 864', 'latitude': 33.3371466, 'longitude': 126.2685278}, {'name': '한라산국립공원 산악박물관', 'address': '제주특별자치도 제주시 산록북로 588', 'latitude': 33.42191537, 'longitude': 126.5490927}]\n",
      "[{'name': '용두암', 'address': '제주특별자치도 제주시 용두암길 15', 'latitude': 33.5161106, 'longitude': 126.5119571}, {'name': '산지 등대', 'address': '제주특별자치도 제주시 사라봉동길 108-1', 'latitude': 33.5214246, 'longitude': 126.5456105}, {'name': '도두항', 'address': '제주특별자치도 제주시 도두항길 22-2', 'latitude': 33.507398, 'longitude': 126.46655}, {'name': '제주동문공설시장', 'address': '제주특별자치도 제주시 동문로4길 9', 'latitude': 33.5120624, 'longitude': 126.5282147}, {'name': '차귀도달래배낚시', 'address': '제주특별자치도 제주시 한경면 노을해안로 1160', 'latitude': 33.3089314, 'longitude': 126.1648975}, {'name': '항파두리 항몽 유적지', 'address': '제주특별자치도 제주시 애월읍 항파두리로 50', 'latitude': 33.4527479, 'longitude': 126.4079226}, {'name': '한림민속 오일시장', 'address': '제주특별자치도 제주시 한림읍 한수풀로4길 10', 'latitude': 33.4201858, 'longitude': 126.2741627}, {'name': '소길별하', 'address': '제주특별자치도 제주시 애월읍 소길남길 34-37', 'latitude': 33.4298394, 'longitude': 126.3757759}, {'name': '레전드야구존 제주연동2호점', 'address': '제주특별자치도 제주시 신광로 36', 'latitude': 33.48896237, 'longitude': 126.4896897}, {'name': '남국사', 'address': '제주특별자치도 제주시 중앙로 738-16', 'latitude': 33.4595496, 'longitude': 126.548485}]\n"
     ]
    }
   ],
   "source": [
    "# 예시\n",
    "keyword=\"자연, 소셜미디어, 스포츠\"\n",
    "gender=\"남\"\n",
    "companion_relationship=\"친구\"\n",
    "age=36\n",
    "top_k=10\n",
    "direction = 'northwest'\n",
    "\n",
    "for _ in range(5):\n",
    "    recommended_spots = recommend_tourist_spots(keyword, gender, companion_relationship, age, direction)\n",
    "    print(recommended_spots)"
   ]
  },
  {
   "cell_type": "code",
   "execution_count": 10,
   "metadata": {},
   "outputs": [
    {
     "name": "stdout",
     "output_type": "stream",
     "text": [
      "함덕해수욕장\n",
      "김녕해수욕장\n",
      "만장굴\n",
      "세화해변\n",
      "비자림\n",
      "절물자연휴양림\n",
      "검멀레해변\n",
      "제동목장\n",
      "교래자연휴양림\n",
      "한라생태숲\n",
      "우도봉\n",
      "우도산호해변\n",
      "관곶\n",
      "비양도 등대\n",
      "제주 밭담 테마공원\n"
     ]
    }
   ],
   "source": [
    "keyword=\"자연, 스포츠, 캠핑\"\n",
    "gender=\"남\"\n",
    "companion_relationship=\"친구\"\n",
    "age=36\n",
    "direction = 'northeast' \n",
    "top_k = 15\n",
    "recommended_spots = recommend_tourist_spots(keyword, gender, companion_relationship, age, direction,top_k, randomize=False)\n",
    "\n",
    "recommended_spots = recommend_tourist_spots(keyword, gender, companion_relationship, age, direction,top_k, randomize=False)\n",
    "for i in recommended_spots:\n",
    "    print(i['관광지 명'])"
   ]
  },
  {
   "cell_type": "code",
   "execution_count": 11,
   "metadata": {},
   "outputs": [
    {
     "name": "stdout",
     "output_type": "stream",
     "text": [
      "섭지코지\n",
      "성산일출봉\n",
      "자구리 문화 예술공원\n",
      "쇠소깍\n",
      "이중섭거리\n",
      "마코다이브\n",
      "오늘은 녹차 한 잔\n",
      "서귀포 매일 올레시장\n",
      "표선해수욕장\n",
      "서복전시관\n",
      "남원큰엉해변\n",
      "신양섭지해수욕장\n",
      "원앙폭포\n",
      "제주 성읍마을\n",
      "쇠소깍 전통 나룻배 카약 체험\n"
     ]
    }
   ],
   "source": [
    "keyword=\"자연 등반 둘레길\"\n",
    "gender=\"남\"\n",
    "companion_relationship=\"혼자\"\n",
    "age=25\n",
    "direction = 'southeast' \n",
    "\n",
    "recommended_spots = recommend_tourist_spots(keyword, gender, companion_relationship, age, direction,top_k, randomize=False)\n",
    "for i in recommended_spots:\n",
    "    print(i['관광지 명'])"
   ]
  },
  {
   "cell_type": "code",
   "execution_count": 8,
   "metadata": {},
   "outputs": [
    {
     "name": "stdout",
     "output_type": "stream",
     "text": [
      "제주동문시장\n",
      "제주동문재래시장\n",
      "바이 제주\n",
      "디앤디파트먼트 제주\n",
      "제주시민속오일시장\n",
      "제주동문공설시장\n",
      "서문공설시장\n",
      "도두몰\n",
      "제주동문수산시장\n",
      "귤귤스토어\n",
      "가르송티미드 제주점\n",
      "샵제주\n",
      "소길별하\n",
      "프라이탁 제주점\n",
      "마켓 제주\n"
     ]
    }
   ],
   "source": [
    "keyword=\"힐링 소셜미디어\"\n",
    "gender=\"여\"\n",
    "companion_relationship=\"연인/배우자\"\n",
    "age=25\n",
    "direction = 'northwest'\n",
    "\n",
    "recommended_spots = recommend_tourist_spots(keyword, gender, companion_relationship, age, direction,top_k, randomize=False)\n",
    "for i in recommended_spots:\n",
    "    print(i['관광지 명'])"
   ]
  },
  {
   "cell_type": "code",
   "execution_count": 9,
   "metadata": {},
   "outputs": [
    {
     "name": "stdout",
     "output_type": "stream",
     "text": [
      "함덕해수욕장\n",
      "해녀박물관\n",
      "세화해변\n",
      "비자림\n",
      "김녕해수욕장\n",
      "너븐숭이4.3기념관\n",
      "절물자연휴양림\n",
      "제주돌문화공원\n",
      "올레길 18코스(제주 원도심-조천 올레)\n",
      "만장굴\n",
      "아침미소 목장\n",
      "검멀레해변\n",
      "스누피가든\n",
      "우도봉\n",
      "제주조천스위스마을\n"
     ]
    }
   ],
   "source": [
    "keyword=\"유적지 역사유적박물관 자연 건강\"\n",
    "gender=\"여\"\n",
    "companion_relationship=\"혼자\"\n",
    "age=21\n",
    "direction = 'northeast'\n",
    "\n",
    "recommended_spots = recommend_tourist_spots(keyword, gender, companion_relationship, age, direction,top_k, randomize=False)\n",
    "for i in recommended_spots:\n",
    "    print(i['관광지 명'])"
   ]
  },
  {
   "cell_type": "code",
   "execution_count": 10,
   "metadata": {},
   "outputs": [
    {
     "name": "stdout",
     "output_type": "stream",
     "text": [
      "제주아트서커스\n",
      "기당미술관\n",
      "오설록 티 뮤지엄\n",
      "서귀포예술의전당\n",
      "서귀포시 중앙도서관\n",
      "제주실탄사격장\n",
      "카멜리아힐\n",
      "루나피크닉\n",
      "산방산탄산온천\n",
      "레이저아레나 엑스 제주점\n",
      "루나폴\n",
      "제주제트 중문점\n",
      "안덕산방도서관\n",
      "테디베어뮤지엄 제주점\n",
      "무민랜드제주\n"
     ]
    }
   ],
   "source": [
    "keyword=\"문화시설 친목 쇼핑 \"\n",
    "gender=\"여\"\n",
    "companion_relationship=\"친구\"\n",
    "age=21\n",
    "direction = 'southwest'\n",
    "\n",
    "recommended_spots = recommend_tourist_spots(keyword, gender, companion_relationship, age, direction,top_k, randomize=False)\n",
    "for i in recommended_spots:\n",
    "    print(i['관광지 명'])"
   ]
  }
 ],
 "metadata": {
  "kernelspec": {
   "display_name": "Python 3",
   "language": "python",
   "name": "python3"
  },
  "language_info": {
   "codemirror_mode": {
    "name": "ipython",
    "version": 3
   },
   "file_extension": ".py",
   "mimetype": "text/x-python",
   "name": "python",
   "nbconvert_exporter": "python",
   "pygments_lexer": "ipython3",
   "version": "3.12.5"
  }
 },
 "nbformat": 4,
 "nbformat_minor": 2
}
